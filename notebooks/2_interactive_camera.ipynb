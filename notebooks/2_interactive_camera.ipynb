{
 "cells": [
  {
   "cell_type": "code",
   "execution_count": 1,
   "id": "056dc88d-5a92-4af0-b6ee-bfa6f633b7ac",
   "metadata": {},
   "outputs": [],
   "source": [
    "'''\n",
    "this notebook demonstrates the 2d impact of changing various camera parameters.\n",
    "nothing world shattering in here, but some helpers to conceptualize these connections.\n",
    "managing to perfectly align the visible track lanes with the camera means you have\n",
    "found the correct camera calibration for this image.\n",
    "'''\n",
    "\n",
    "%matplotlib widget\n",
    "\n",
    "import ipywidgets as widgets\n",
    "from ipywidgets import fixed\n",
    "from matplotlib import pyplot as plt\n",
    "import matplotlib.gridspec as gridspec\n",
    "from PIL import Image\n",
    "\n",
    "import sys\n",
    "sys.path.append('../src/')\n",
    "from sim_util import *\n",
    "\n",
    "img = Image.open('../figs/letesenbet_frame50.jpg')"
   ]
  },
  {
   "cell_type": "code",
   "execution_count": 8,
   "id": "8565f1bb-8323-4034-b8cc-29484d20d0f7",
   "metadata": {},
   "outputs": [
    {
     "data": {
      "application/vnd.jupyter.widget-view+json": {
       "model_id": "ec7eec8aabf54e40afdaceefd5c20011",
       "version_major": 2,
       "version_minor": 0
      },
      "text/plain": [
       "Canvas(toolbar=Toolbar(toolitems=[('Home', 'Reset original view', 'home', 'home'), ('Back', 'Back to previous …"
      ]
     },
     "metadata": {},
     "output_type": "display_data"
    },
    {
     "data": {
      "application/vnd.jupyter.widget-view+json": {
       "model_id": "d89b551714034bc7a851cb5233bd4188",
       "version_major": 2,
       "version_minor": 0
      },
      "text/plain": [
       "interactive(children=(FloatSlider(value=-74.4, description='azim', max=90.0, min=-90.0), FloatSlider(value=-3.…"
      ]
     },
     "metadata": {},
     "output_type": "display_data"
    }
   ],
   "source": [
    "plt.figure(figsize=(14, 6))\n",
    "gs1 = gridspec.GridSpec(1, 2)\n",
    "gs1.update(wspace=0.25, hspace=0.0, top=1., bottom=-.1)\n",
    "\n",
    "ax = plt.subplot(gs1[0], projection='3d')\n",
    "ax1 = plt.subplot(gs1[1])\n",
    "\n",
    "param_ranges = {'azim': (-90.,90), \n",
    "                'elev': (-20., -1),\n",
    "                'fov': (1, 80.),\n",
    "                'rot': (-10., 10.),\n",
    "                'target_x': (-20., 20.),\n",
    "                'target_y': (-10., 10.),\n",
    "                'dist': (20., 100)\n",
    "               }\n",
    "\n",
    "@widgets.interact(F=(1, 10), **param_ranges)\n",
    "def render_scene(azim=-74.4, elev=-3.2, dist=88.4, fov=4.2, F=1, rot=0, target_x=1.71, target_y=1.62):\n",
    "    ax.clear()\n",
    "    ax1.clear()\n",
    "        \n",
    "    view_target = np.array([target_x, target_y, 0.])\n",
    "    azel_vec = azim_to_vec(azim, elev, degrees=True)\n",
    "    cam_vec = view_target - azel_vec * dist\n",
    "    print('cam_vec', cam_vec)\n",
    "    \n",
    "    with plt.rc_context({'axes.edgecolor':'orange', 'xtick.color':'green', 'ytick.color':'green', 'figure.facecolor':'white'}):\n",
    "        res_dict = compute_projection(camx=cam_vec[0], camy=cam_vec[1], camz=cam_vec[2], azim=azim, \n",
    "                                      _lanes=lanes_new, no_vanish=True, elev=elev, fov=fov, F=F, roll=rot)\n",
    "                    \n",
    "        draw_scene(res_dict, fake_F=10, ax=ax, _lanes=lanes_new)\n",
    "        draw2d(ax1, res_dict['lines_2ds'], color='blue', linewidth=2, alpha=.8)\n",
    "        \n",
    "    ax.scatter(*view_target, marker='x', color='red')\n",
    "    \n",
    "    ax1.imshow(np.flip(img, 0))\n",
    "    ax.set_xlim(0,50)\n",
    "        \n",
    "    ax1.axis('off')\n",
    "    ax.set_xlim(-20, 50)\n",
    "    ax.set_ylim(0, 50)\n",
    "    ax.set_zlim(-20, 20)\n",
    "    ax.set_xticklabels([])\n",
    "    ax.set_yticklabels([])\n",
    "    ax.set_zticklabels([])"
   ]
  },
  {
   "cell_type": "code",
   "execution_count": null,
   "id": "c134c49f-ecd2-4c39-80e1-a687e0f35099",
   "metadata": {},
   "outputs": [],
   "source": []
  }
 ],
 "metadata": {
  "kernelspec": {
   "display_name": "env",
   "language": "python",
   "name": "env"
  },
  "language_info": {
   "codemirror_mode": {
    "name": "ipython",
    "version": 3
   },
   "file_extension": ".py",
   "mimetype": "text/x-python",
   "name": "python",
   "nbconvert_exporter": "python",
   "pygments_lexer": "ipython3",
   "version": "3.6.9"
  }
 },
 "nbformat": 4,
 "nbformat_minor": 5
}
