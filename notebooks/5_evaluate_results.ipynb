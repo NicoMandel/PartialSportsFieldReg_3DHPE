{
 "cells": [
  {
   "cell_type": "code",
   "execution_count": 12,
   "id": "8a33120b-325f-481b-817f-2dab1ff283e5",
   "metadata": {},
   "outputs": [
    {
     "name": "stdout",
     "output_type": "stream",
     "text": [
      "31\n"
     ]
    }
   ],
   "source": [
    "'''\n",
    "collect the results from results.pkl or results_gt.pkl\n",
    "and generate the numbers for table1\n",
    "'''\n",
    "\n",
    "import pickle\n",
    "import os\n",
    "from glob import glob\n",
    "import numpy as np\n",
    "\n",
    "import sys\n",
    "sys.path.append('../src')\n",
    "\n",
    "comb_path = '/disk2/data/UE5sim_3DHPE/'\n",
    "\n",
    "ress = {}\n",
    "files = os.listdir(comb_path)\n",
    "for f in files:\n",
    "    # grab the experimental name and prep its folder.\n",
    "    fname = f.split('/')[-1].split('.')[0]\n",
    "    unreal_path = os.path.join(comb_path, fname)\n",
    "\n",
    "    results_file = os.path.join(unreal_path, 'results_gt.pkl')\n",
    "#     results_file = os.path.join(unreal_path, 'results.pkl')\n",
    "\n",
    "    if not os.path.exists(results_file):\n",
    "        continue\n",
    "    ress[fname] = pickle.load(open(results_file, 'rb'))\n",
    "print(len(ress))"
   ]
  },
  {
   "cell_type": "code",
   "execution_count": 13,
   "id": "aa93f3c1-0d27-469a-9171-4b8856090ca7",
   "metadata": {},
   "outputs": [],
   "source": [
    "# calculate score for metrabs vs. lift!\n",
    "from lift3d_util import *\n",
    "skip_idc = [7, 9, 10]\n",
    "from pprint import pprint\n",
    "good_idc = list(np.arange(17))\n",
    "for si in skip_idc:\n",
    "    good_idc.remove(si)\n",
    "    \n",
    "leg_idc = set()\n",
    "for name, idc in limb_chains.items():\n",
    "    if 'leg' in name:\n",
    "        leg_idc = leg_idc.union(set(idc))\n",
    "        \n",
    "leg_idc = list(leg_idc)\n",
    "\n",
    "collected_error = defaultdict(lambda: defaultdict(list))\n",
    "\n",
    "cnt = 0\n",
    "for fname, compare_dict in ress.items():\n",
    "    compare_data = compare_dict['skels']\n",
    "    method_to_err = defaultdict(list)\n",
    "    cnt += len(compare_data['gt'])\n",
    "    for key in compare_data.keys():\n",
    "        if key == 'gt':\n",
    "            continue\n",
    "        for frame in range(len(compare_data[key])):\n",
    "            dists = np.linalg.norm(compare_data[key][frame] - compare_data['gt'][frame], axis=1)[good_idc]\n",
    "            dists_legs = np.linalg.norm(compare_data[key][frame] - compare_data['gt'][frame], axis=1)[leg_idc]\n",
    "            method_to_err[key].append([np.mean(dists), np.mean(dists_legs)])\n",
    "    \n",
    "    for i, name in enumerate(['total', 'legs']):\n",
    "        for k, v in method_to_err.items():\n",
    "            collected_error[name][k].append([np.mean(v[i]), np.std(v[i])])"
   ]
  },
  {
   "cell_type": "code",
   "execution_count": 14,
   "id": "ac609e37-f453-402e-ad36-be5491eeb1f4",
   "metadata": {},
   "outputs": [
    {
     "name": "stdout",
     "output_type": "stream",
     "text": [
      "cnt 10571\n"
     ]
    }
   ],
   "source": [
    "print('cnt', cnt)"
   ]
  },
  {
   "cell_type": "code",
   "execution_count": 15,
   "id": "5abc7cdb-9aed-4a75-9b79-0146bbf609cb",
   "metadata": {},
   "outputs": [
    {
     "name": "stdout",
     "output_type": "stream",
     "text": [
      "pixel errors\n",
      "metrabs 4.881887683049985 2.88268462109971\n",
      "metrabs_norot 6.228303241816721 4.067821840353877\n",
      "lift3d 2.1594741400193707 1.3165017558827485\n"
     ]
    }
   ],
   "source": [
    "pixel_errs = defaultdict(list)\n",
    "for fname, compare_dict in ress.items():\n",
    "    for k, v in compare_dict['projection_errors'].items():\n",
    "        pixel_errs[k].append([np.mean(v), np.std(v)])\n",
    "\n",
    "print('pixel errors')\n",
    "for k, v in pixel_errs.items():\n",
    "    print(k, np.mean(v), np.std(v))"
   ]
  },
  {
   "cell_type": "code",
   "execution_count": 16,
   "id": "307be9e1-07bf-4d3d-b55a-fa9f00c16758",
   "metadata": {},
   "outputs": [
    {
     "name": "stdout",
     "output_type": "stream",
     "text": [
      "3d error\n",
      "metrabs [7.81547909 2.08962617]\n",
      "metrabs_norot [10.26397619  1.57507011]\n",
      "lift3d [6.1863332  1.50908652]\n"
     ]
    }
   ],
   "source": [
    "print('3d error')\n",
    "for k in method_to_err.keys():\n",
    "    print(k, np.mean(collected_error['total'][k], 0)*100)"
   ]
  },
  {
   "cell_type": "code",
   "execution_count": 17,
   "id": "76ffddfb-83c1-40a8-a706-e16f5e406430",
   "metadata": {},
   "outputs": [],
   "source": [
    "# compute the error in knee angle!\n",
    "for fname, compare_dict in ress.items():\n",
    "    compare_data = compare_dict['skels']\n",
    "    method_to_err = defaultdict(list)\n",
    "    for key in compare_data.keys():\n",
    "        if key == 'gt':\n",
    "            continue\n",
    "        for frame in range(len(compare_data[key])):\n",
    "            pass"
   ]
  },
  {
   "cell_type": "code",
   "execution_count": 18,
   "id": "76015d90-c497-4ff5-bc68-080da316621f",
   "metadata": {},
   "outputs": [
    {
     "name": "stdout",
     "output_type": "stream",
     "text": [
      "knee error\n",
      "metrabs [12.28557895  7.97681484]\n",
      "metrabs_norot [20.33231988  9.74034112]\n",
      "lift3d [9.59782521 8.90834991]\n"
     ]
    }
   ],
   "source": [
    "# knee_angle_from_lines(compare_data['gt'][0])\n",
    "\n",
    "left_idc = limb_chains['left_leg'][1:]\n",
    "right_idc = limb_chains['right_leg'][1:]\n",
    "\n",
    "err_collect = defaultdict(list)\n",
    "for fname, compare_dict in ress.items():\n",
    "    compare_data = compare_dict['skels']\n",
    "    method_to_err = defaultdict(list)\n",
    "    for key in compare_data.keys():\n",
    "        if key == 'gt':\n",
    "            continue\n",
    "        for frame in range(len(compare_data[key])):\n",
    "            \n",
    "            for side in [left_idc, right_idc]:\n",
    "                hip, knee, ankle = compare_data['gt'][frame][side]\n",
    "                knee_angle_gt = angle_between(knee, hip, ankle)\n",
    "                u = knee - ankle\n",
    "                u/=np.linalg.norm(u)\n",
    "\n",
    "                hip, knee, ankle = compare_data[key][frame][side]\n",
    "                knee_angle_method = angle_between(knee, hip, ankle)\n",
    "                \n",
    "                v = knee - ankle\n",
    "                v/=np.linalg.norm(v)\n",
    "                shin_off = np.arccos(u.dot(v)) / np.pi * 180\n",
    "            \n",
    "                diff = np.abs(knee_angle_gt - knee_angle_method)\n",
    "                method_to_err[key].append(shin_off)\n",
    "\n",
    "    for k, v in method_to_err.items():\n",
    "        err_collect[k].append([np.mean(v), np.std(v)])\n",
    "#         print(k, np.mean(v), np.std(v))\n",
    "\n",
    "print('knee error')\n",
    "for k, v in err_collect.items():\n",
    "    print(k, np.mean(v, 0))"
   ]
  },
  {
   "cell_type": "code",
   "execution_count": 19,
   "id": "599ac55c-edec-44dd-9a3d-bf376f5739e9",
   "metadata": {},
   "outputs": [
    {
     "name": "stdout",
     "output_type": "stream",
     "text": [
      "gt 8.103235552872174 12.803080682360582\n",
      "metrabs 7.052947601169807 11.38696140771269\n",
      "metrabs_norot 7.060339719642375 11.377178421809953\n",
      "lift3d 5.782306542431986 10.669316904551637\n"
     ]
    }
   ],
   "source": [
    "for k, v in ress['ath0_run']['skels'].items():\n",
    "    print(k, np.mean(v), np.std(v))"
   ]
  }
 ],
 "metadata": {
  "kernelspec": {
   "display_name": "env",
   "language": "python",
   "name": "env"
  },
  "language_info": {
   "codemirror_mode": {
    "name": "ipython",
    "version": 3
   },
   "file_extension": ".py",
   "mimetype": "text/x-python",
   "name": "python",
   "nbconvert_exporter": "python",
   "pygments_lexer": "ipython3",
   "version": "3.6.9"
  }
 },
 "nbformat": 4,
 "nbformat_minor": 5
}
