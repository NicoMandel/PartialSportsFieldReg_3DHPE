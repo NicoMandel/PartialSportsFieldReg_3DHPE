{
 "cells": [
  {
   "cell_type": "code",
   "execution_count": 1,
   "metadata": {},
   "outputs": [
    {
     "name": "stdout",
     "output_type": "stream",
     "text": [
      "Saving frame 341 of 342\n"
     ]
    }
   ],
   "source": [
    "'''\n",
    "This repo demonstrates how to generate the used groundtruth data format\n",
    "from raw outputs out of unreal engine, using the hinted blueprints in this repo\n",
    "'''\n",
    "\n",
    "import os\n",
    "\n",
    "from src.unreal_util import parse_data_from_file, convert_json_to_groundtruth\n",
    "\n",
    "base_dir = '/disk2/data/UE5sim_3DHPE'\n",
    "exp_dirs = os.listdir(base_dir)\n",
    "exp = 'ath0_run'\n",
    "\n",
    "path = os.path.join(base_dir, exp)\n",
    "\n",
    "logfile = os.path.join(path, '%s.txt'%exp)\n",
    "sim_data = parse_data_from_file(logfile)\n",
    "\n",
    "unreal_path = path\n",
    "exp_dir = path\n",
    "file_ext = 'jpeg'\n",
    "\n",
    "img_fold = os.path.join(exp_dir, 'MovieRenders')\n",
    "img_pattern = os.path.join(img_fold, exp + '.%04d.' + file_ext)\n",
    "\n",
    "groundtruth = convert_json_to_groundtruth(sim_data, img_pattern, unreal_path,\n",
    "                                          render=True)"
   ]
  },
  {
   "cell_type": "code",
   "execution_count": null,
   "metadata": {},
   "outputs": [],
   "source": [
    "groundtruth.keys()"
   ]
  }
 ],
 "metadata": {
  "kernelspec": {
   "display_name": "env",
   "language": "python",
   "name": "env"
  },
  "language_info": {
   "codemirror_mode": {
    "name": "ipython",
    "version": 3
   },
   "file_extension": ".py",
   "mimetype": "text/x-python",
   "name": "python",
   "nbconvert_exporter": "python",
   "pygments_lexer": "ipython3",
   "version": "3.6.9"
  }
 },
 "nbformat": 4,
 "nbformat_minor": 4
}
